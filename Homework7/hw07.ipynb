{
 "cells": [
  {
   "cell_type": "markdown",
   "id": "0",
   "metadata": {},
   "source": [
    "# Apache Spark for complex queries\n",
    "\n",
    "## Data Management Homework 7\n",
    "\n",
    "In this assignment we will use \n",
    "[Apache Spark](https://spark.apache.org/): \n",
    "a popular framework for optimal distributed processing on large amount of data. \n",
    "The objective of is to use Apache Spark to translate and execute some queries of the TPCx-BB bigdata benchmark.  \n",
    "[TPCx-BB](https://www.tpc.org/tpc_documents_current_versions/current_specifications5.asp) \n",
    "or simply \"Big Bench\" is a common benchmark suite to evaluate the system performance on big data analytics and machine learning algorithms. \n",
    "We will focus on big data analytical queries, which are expressed in SQL. \n",
    "\n",
    "Spark is a framework available in multiple languages: Scala, Java, Python, R. In this exercise, we will use Python.\n",
    "\n",
    "## Setup\n",
    "\n",
    "### Jupyter Lab\n",
    "\n",
    "If you are not familiar with the Jupyter Lab environment, check out these resources from the official website: \n",
    "[example notebook](https://jupyter.org/try), \n",
    "[docs](https://jupyterlab.readthedocs.io/en/stable/getting_started/overview.html). \n",
    "\n",
    "Quick reference:\n",
    "- This is a cell. A cell can contain either Markdown text (such as this one) or code. Everything in jupyter notebook is a cell.\n",
    "    - Click on the plus on the top bar to add a new cell\n",
    "    - You can double-click on a text cell to edit iy using Markdown\n",
    "    - You can run a cell by either using the button \"play\" at the top bar or by using the \"shift + enter\" key combination\n",
    "    - Running a code cell executes it\n",
    "    - Running a text cell formats the text\n",
    "- Once you run a cell it stays in memory! So code will be run based on which order you execute cells, even if you execute a cell that is below another one before\n",
    "- General rule #1: try to arrange cell step-by-stop from top to bottom. If anything breaks, try to execute every cell from the top\n",
    "- General rule #2: if you are stuck or a cell is blocked during execution re-run the kernel from the top bar menu\n",
    " \n",
    "### Contents\n",
    "You can navigate through this exercise contents with the file explorer on the left.  \n",
    "The contents are \"extracted\" from the \n",
    "[TPCx-BB](https://www.tpc.org/tpc_documents_current_versions/current_specifications5.asp) \n",
    "benchmark source folder. \n",
    "Please refer to the link if you want to have a broader overview and/or additional information TPCx-BB. \n",
    "Since this exercise differs from the actual benchmark, only a subset of its content are reported here:\n",
    "- `queries/` contains 30 SQL/Spark queries, some of which are to be ported to Spark in this exercise. Every query `qxx/` folder (`xx` = number) contains\n",
    "    - `engineLocalSettings.conf`: TPC related, disregard\n",
    "    - `engineLocalSettings.sql`: TPC related, disregard\n",
    "    - `explain_qxx.sql`: *query content* in \"explanatory\" format\n",
    "    - `qxx.sql`: *query content* in TPC exec format\n",
    "    - `run.sh`: TPC related, disregard\n",
    "    - `results/qxx-result`: contains the expect result in plain-text. You should compare this with your query output (example provided later)\n",
    "- `spark_table_schemas`: contains schema information for every table in the dataset. Not relevant for the implementation\n",
    "- `TPCx-BB-dataset`: contains all the tables in separate folder. Refer to it for table names\n",
    "\n",
    "**Do not modify** `spark_table_schemas` or `TPCx-BB-dataset` contents as it may compromise your solution.\n",
    "\n",
    "### Guidelines\n",
    "You must use the Spark SQL module to solve this exercise. Refer to the official documentation:\n",
    "> Spark SQL: https://spark.apache.org/docs/latest/sql-programming-guide.html\n",
    "\n",
    "We will work with *DataFrames*: a Spark data type used to represent collections of data, including database Tables. \n",
    "You are strongly recommended to refer to the DataFrame API reference within the Spark SQL module during the exercise implementation. \n",
    "There you will find methods, functions and further datatypes which are equivalent to SQL operations. \n",
    "> DataFrame Reference: https://spark.apache.org/docs/latest/api/python/reference/pyspark.sql/dataframe.html\n",
    "The Spark DataFrame API resembles the one of Pandas library.\n",
    " \n",
    "Reference: \n",
    " [PySpark API documentation](https://spark.apache.org/docs/latest/api/python/reference/index.html)\n",
    "\n",
    "#### Reading TCPx-BB queries\n",
    "The SQL queries files (`explain_qxx.sql` and `qxx.sql`) are taken directly from the TPCx-BB benchmark suite \n",
    "and therefore might contain \"extra\" SQL statements and comments, \n",
    "which are functional to the TCPx-BB original benchmark (e.g. `hive` instructions, `EXPLAIN`, etc.). \n",
    "Your goal is to extract and translate the SQL query only, disregarding irrelevant statements/instructions for the purpose of this exercise.  \n",
    "Additionally, queries might contain *template* variables, in the form `${qxx_variable_name}`. \n",
    "You can find all relative templates in the `query/queryParameters.sql` file."
   ]
  },
  {
   "cell_type": "markdown",
   "id": "1",
   "metadata": {},
   "source": [
    "## Environment preparation\n",
    "**Make sure to read through and run the following code cells before starting the exercise** \n",
    "\n",
    "### Install PySpark\n",
    "\n",
    "Setup of python environment done through `pyproject.toml` specifications and \n",
    "[_poetry_](https://python-poetry.org/docs/)\n",
    "on project root directory.\n",
    "Follow `README.md` instructions to install the dependencies in a freshly created virtual environment."
   ]
  },
  {
   "cell_type": "markdown",
   "id": "2",
   "metadata": {},
   "source": [
    "### Import PySpark\n",
    "\n",
    "Whenever working with Spark, you need to either start a Spark Session or join one.\n",
    "The Spark Session Builder will handle under-the-hood the architecture of the framework discussed in class \n",
    "and give us an entry point to programming with Spark.\n",
    "It will create an application UI panel at `localhost:4040` by default.\n",
    "Go check it to see info regarding driver, executors and jobs for the current configuration.\n",
    " "
   ]
  },
  {
   "cell_type": "code",
   "execution_count": 1,
   "id": "3",
   "metadata": {},
   "outputs": [
    {
     "name": "stderr",
     "output_type": "stream",
     "text": [
      "WARNING: Using incubator modules: jdk.incubator.vector\n",
      "Using Spark's default log4j profile: org/apache/spark/log4j2-defaults.properties\n",
      "Setting default log level to \"WARN\".\n",
      "To adjust logging level use sc.setLogLevel(newLevel). For SparkR, use setLogLevel(newLevel).\n",
      "25/05/29 15:38:52 WARN NativeCodeLoader: Unable to load native-hadoop library for your platform... using builtin-java classes where applicable\n"
     ]
    },
    {
     "data": {
      "text/html": [
       "\n",
       "            <div>\n",
       "                <p><b>SparkSession - in-memory</b></p>\n",
       "                \n",
       "        <div>\n",
       "            <p><b>SparkContext</b></p>\n",
       "\n",
       "            <p><a href=\"http://10.21.64.72:4040\">Spark UI</a></p>\n",
       "\n",
       "            <dl>\n",
       "              <dt>Version</dt>\n",
       "                <dd><code>v4.0.0</code></dd>\n",
       "              <dt>Master</dt>\n",
       "                <dd><code>local</code></dd>\n",
       "              <dt>AppName</dt>\n",
       "                <dd><code>Homework 07</code></dd>\n",
       "            </dl>\n",
       "        </div>\n",
       "        \n",
       "            </div>\n",
       "        "
      ],
      "text/plain": [
       "<pyspark.sql.session.SparkSession at 0x112d93a10>"
      ]
     },
     "execution_count": 1,
     "metadata": {},
     "output_type": "execute_result"
    }
   ],
   "source": [
    "from pyspark.sql import SparkSession\n",
    "from pyspark.sql.functions import *\n",
    "\n",
    "# when run locally, spark has one (master) node with its own jvm and no cluster manager is created\n",
    "spark = SparkSession.builder.master(\"local\").appName(\"Homework 07\").getOrCreate()\n",
    "\n",
    "spark"
   ]
  },
  {
   "cell_type": "code",
   "execution_count": null,
   "id": "0451c062-14f5-4c31-8d74-fa495f37e2c4",
   "metadata": {},
   "outputs": [],
   "source": []
  },
  {
   "cell_type": "markdown",
   "id": "4",
   "metadata": {},
   "source": [
    "# Spark API\n",
    "\n",
    "The building block of the Spark API is its Resilient Distributed Dataset (RDD) API.\n",
    "In the RDD API, there are two types of operations: transformations, which define a new dataset based on previous ones,\n",
    "and actions, which kick off a job to execute on a cluster.\n",
    "On top of Spark's RDD API, high level APIs are provided e.g. Dataframe API and Machine Learning API.\n",
    "We will focus on the former. \n",
    "\n",
    "\n",
    "# PySpark Dataframes\n",
    "\n",
    "Dataframes are a data structure for data manipulation.\n",
    "A [PySpark Dataframe](https://spark.apache.org/docs/latest/api/python/reference/index.html) \n",
    "is represented as a 2-dimensional labeled data structure with columns of potentially different types.\n",
    "Similar to what a spreadsheet or SQL table looks like.\n",
    "Most functionality and API of \n",
    "[Pandas](https://pandas.pydata.org/docs/)\n",
    "data analysis library is proposed in PySpark with support for distributed collections of data.\n",
    "\n",
    "To start, let's see how to create a dataframe, visualize the data in it and retrieve its basic properties."
   ]
  },
  {
   "cell_type": "code",
   "execution_count": 2,
   "id": "5",
   "metadata": {},
   "outputs": [
    {
     "name": "stderr",
     "output_type": "stream",
     "text": [
      "[Stage 0:>                                                          (0 + 1) / 1]"
     ]
    },
    {
     "name": "stdout",
     "output_type": "stream",
     "text": [
      "+---+-------+---+\n",
      "| id|   name|age|\n",
      "+---+-------+---+\n",
      "|  1|  Alice| 33|\n",
      "|  1|  Alice| 33|\n",
      "|  2|    Bob| 45|\n",
      "|  3|Charlie| 50|\n",
      "+---+-------+---+\n",
      "\n"
     ]
    },
    {
     "name": "stderr",
     "output_type": "stream",
     "text": [
      "                                                                                "
     ]
    }
   ],
   "source": [
    "# Creating a DataFrame from scratch\n",
    "df = spark.createDataFrame(\n",
    "    data=[(1, \"Alice\", 33), (1, \"Alice\", 33), (2, \"Bob\", 45), (3, \"Charlie\", 50)],\n",
    "    schema=[\"id\", \"name\", \"age\"],\n",
    ")\n",
    "\n",
    "# visualize dataframe representation\n",
    "df.show()  # by default shows first 20 rows"
   ]
  },
  {
   "cell_type": "code",
   "execution_count": 3,
   "id": "6",
   "metadata": {},
   "outputs": [
    {
     "name": "stdout",
     "output_type": "stream",
     "text": [
      "Type: <class 'pyspark.sql.classic.dataframe.DataFrame'>\n",
      "\n",
      "First top n=2 rows: [Row(id=1, name='Alice', age=33), Row(id=1, name='Alice', age=33)]\n",
      "\n",
      "Column title names: ['id', 'name', 'age']\n",
      "\n",
      "Column title names with its types: [('id', 'bigint'), ('name', 'string'), ('age', 'bigint')]\n",
      "\n",
      "Selecting a column: DataFrame[name: string]\n",
      "\n",
      "Avoid pandas notation (less features): Column<'name'>\n",
      "\n",
      "Selecting more than one columns: DataFrame[name: string, age: bigint]\n"
     ]
    }
   ],
   "source": [
    "print(\n",
    "    f\"Type: {type(df)}\",  # PySpark Dataframe is not equal to Pandas Dataframe !\n",
    "    f\"First top n=2 rows: {df.head(2)}\",  # rows returned in a list\n",
    "    f\"Column title names: {df.columns}\",\n",
    "    f\"Column title names with its types: {df.dtypes}\",\n",
    "    f'Selecting a column: {df.select(\"name\")}',  # it's still a DataFrame\n",
    "    f'Avoid pandas notation (less features): {df[\"name\"]}',  # Column object with lesser features than PySpark DataFrame\n",
    "    f'Selecting more than one columns: {df.select([\"name\", \"age\"])}',  # it's still a DataFrame\n",
    "    sep=\"\\n\\n\",\n",
    ")"
   ]
  },
  {
   "cell_type": "code",
   "execution_count": 4,
   "id": "7",
   "metadata": {},
   "outputs": [
    {
     "name": "stdout",
     "output_type": "stream",
     "text": [
      "+-------+---+\n",
      "|   name|age|\n",
      "+-------+---+\n",
      "|  Alice| 33|\n",
      "|  Alice| 33|\n",
      "|    Bob| 45|\n",
      "|Charlie| 50|\n",
      "+-------+---+\n",
      "\n"
     ]
    }
   ],
   "source": [
    "# print the values of the selected columns\n",
    "df.select([\"name\", \"age\"]).show()"
   ]
  },
  {
   "cell_type": "code",
   "execution_count": 5,
   "id": "8",
   "metadata": {},
   "outputs": [
    {
     "name": "stderr",
     "output_type": "stream",
     "text": [
      "[Stage 3:>                                                          (0 + 1) / 1]"
     ]
    },
    {
     "name": "stdout",
     "output_type": "stream",
     "text": [
      "+-------+------------------+-------+-----------------+\n",
      "|summary|                id|   name|              age|\n",
      "+-------+------------------+-------+-----------------+\n",
      "|  count|                 4|      4|                4|\n",
      "|   mean|              1.75|   NULL|            40.25|\n",
      "| stddev|0.9574271077563381|   NULL|8.616843969807043|\n",
      "|    min|                 1|  Alice|               33|\n",
      "|    max|                 3|Charlie|               50|\n",
      "+-------+------------------+-------+-----------------+\n",
      "\n"
     ]
    },
    {
     "name": "stderr",
     "output_type": "stream",
     "text": [
      "                                                                                "
     ]
    }
   ],
   "source": [
    "# get statistics retrieved from a dataframe, computationally expensive, similar to Pandas\n",
    "df.describe().show()"
   ]
  },
  {
   "cell_type": "markdown",
   "id": "9",
   "metadata": {},
   "source": [
    "## Column operations on DataFrame\n",
    "\n",
    "Column operations generate a new DataFrame that need to be stored in a variable to be saved.\n",
    "It does not change the original DataFrame, but creates a new modified one from it.\n",
    "\n",
    "The following operations on column are presented:\n",
    "- creation\n",
    "- renaming\n",
    "- deletion\n",
    "\n",
    "The method `col('...')` is the one responsible \n",
    "to return a column given its name.\n"
   ]
  },
  {
   "cell_type": "code",
   "execution_count": 6,
   "id": "10",
   "metadata": {},
   "outputs": [
    {
     "name": "stdout",
     "output_type": "stream",
     "text": [
      "+---+-------+---+--------------+\n",
      "| id|   name|age|age in 2 years|\n",
      "+---+-------+---+--------------+\n",
      "|  1|  Alice| 33|            35|\n",
      "|  1|  Alice| 33|            35|\n",
      "|  2|    Bob| 45|            47|\n",
      "|  3|Charlie| 50|            52|\n",
      "+---+-------+---+--------------+\n",
      "\n"
     ]
    }
   ],
   "source": [
    "# add a column where the 'age' is increase by +2\n",
    "df_col_added = df.withColumn(colName=\"age in 2 years\", col=col(\"age\") + 2)\n",
    "df_col_added.show()"
   ]
  },
  {
   "cell_type": "code",
   "execution_count": 7,
   "id": "11",
   "metadata": {},
   "outputs": [
    {
     "name": "stdout",
     "output_type": "stream",
     "text": [
      "+-------+---+--------------+\n",
      "|   name|age|age in 2 years|\n",
      "+-------+---+--------------+\n",
      "|  Alice| 33|            35|\n",
      "|  Alice| 33|            35|\n",
      "|    Bob| 45|            47|\n",
      "|Charlie| 50|            52|\n",
      "+-------+---+--------------+\n",
      "\n"
     ]
    }
   ],
   "source": [
    "# remove the 'id' column\n",
    "df_col_removed = df_col_added.drop(\"id\")\n",
    "df_col_removed.show()"
   ]
  },
  {
   "cell_type": "code",
   "execution_count": 8,
   "id": "12",
   "metadata": {},
   "outputs": [
    {
     "name": "stdout",
     "output_type": "stream",
     "text": [
      "+-------------------+---+--------------+\n",
      "|name_column_renamed|age|age in 2 years|\n",
      "+-------------------+---+--------------+\n",
      "|              Alice| 33|            35|\n",
      "|              Alice| 33|            35|\n",
      "|                Bob| 45|            47|\n",
      "|            Charlie| 50|            52|\n",
      "+-------------------+---+--------------+\n",
      "\n"
     ]
    }
   ],
   "source": [
    "# rename the 'name' column\n",
    "df_col_renamed = df_col_removed.withColumnRenamed(\n",
    "    existing=\"name\", new=\"name_column_renamed\"\n",
    ")\n",
    "\n",
    "df_col_renamed.show()"
   ]
  },
  {
   "cell_type": "markdown",
   "id": "13",
   "metadata": {},
   "source": [
    "## Row operations on DataFrame\n",
    "\n",
    "The result from this operations need to be saved in a new variable since it does not change the original dataframe. \n",
    "Same logic as column operations.\n",
    "\n",
    "The following operations on rows are presented:\n",
    "- creation\n",
    "- update\n",
    "- deletion\n",
    "\n",
    "The examples provided are scoped within the context of handling null missing values in dataframe records."
   ]
  },
  {
   "cell_type": "code",
   "execution_count": 9,
   "id": "14",
   "metadata": {},
   "outputs": [
    {
     "name": "stdout",
     "output_type": "stream",
     "text": [
      "+----+-------+----+\n",
      "|  id|   name| age|\n",
      "+----+-------+----+\n",
      "|   1|  Alice|  33|\n",
      "|   1|  Alice|  33|\n",
      "|NULL|    Bob|  45|\n",
      "|   3|Charlie|NULL|\n",
      "+----+-------+----+\n",
      "\n"
     ]
    }
   ],
   "source": [
    "# update a row setting a null value\n",
    "df_null = df.withColumn(\n",
    "    colName=\"age\", col=when(col(\"age\") >= 50, None).otherwise(col(\"age\"))\n",
    ")\n",
    "\n",
    "df_null = df_null.withColumn(\n",
    "    colName=\"id\", col=when(col(\"Name\") == \"Bob\", None).otherwise(col(\"id\"))\n",
    ")\n",
    "\n",
    "df_null.show()"
   ]
  },
  {
   "cell_type": "markdown",
   "id": "15",
   "metadata": {},
   "source": [
    "Missing values are generally referred as `NA`, which is a sentinel value.\n",
    "Further explanation in \n",
    "[pandas](https://pandas.pydata.org/docs/user_guide/missing_data.html#missing-data),\n",
    "[pyspark](https://spark.apache.org/docs/3.1.1/api/python/reference/api/pyspark.sql.DataFrame.na.html?highlight=na#pyspark.sql.DataFrame.na)\n",
    "specific docs."
   ]
  },
  {
   "cell_type": "code",
   "execution_count": 10,
   "id": "16",
   "metadata": {},
   "outputs": [
    {
     "name": "stdout",
     "output_type": "stream",
     "text": [
      "+---+-----+---+\n",
      "| id| name|age|\n",
      "+---+-----+---+\n",
      "|  1|Alice| 33|\n",
      "|  1|Alice| 33|\n",
      "+---+-----+---+\n",
      "\n"
     ]
    }
   ],
   "source": [
    "# remove rows if containing any null value in field attributes\n",
    "df_without_null_rows = df_null.dropna()\n",
    "# same as df_null.na.drop(), df_null.dropna(how='any'), df_null.na.drop(how='any')\n",
    "df_without_null_rows.show()"
   ]
  },
  {
   "cell_type": "code",
   "execution_count": 11,
   "id": "17",
   "metadata": {},
   "outputs": [
    {
     "name": "stdout",
     "output_type": "stream",
     "text": [
      "+---+-------+----+\n",
      "| id|   name| age|\n",
      "+---+-------+----+\n",
      "|  1|  Alice|  33|\n",
      "|  1|  Alice|  33|\n",
      "|  3|Charlie|NULL|\n",
      "+---+-------+----+\n",
      "\n"
     ]
    }
   ],
   "source": [
    "# remove rows only if null missing values is present in the specified column\n",
    "df_without_id_null = df_null.dropna(subset=[\"id\"])\n",
    "df_without_id_null.show()"
   ]
  },
  {
   "cell_type": "code",
   "execution_count": 12,
   "id": "18",
   "metadata": {},
   "outputs": [
    {
     "name": "stdout",
     "output_type": "stream",
     "text": [
      "+---+-------+---+\n",
      "| id|   name|age|\n",
      "+---+-------+---+\n",
      "|  1|  Alice| 33|\n",
      "|  1|  Alice| 33|\n",
      "|  3|Charlie| -1|\n",
      "+---+-------+---+\n",
      "\n"
     ]
    }
   ],
   "source": [
    "# replace null missing values with the one provided, must correspond to column type\n",
    "df_filled_nulls = df_without_id_null.fillna(-1)\n",
    "df_filled_nulls.show()"
   ]
  },
  {
   "cell_type": "markdown",
   "id": "19",
   "metadata": {},
   "source": [
    "## Filter operations\n",
    "\n",
    "Fundamental to implement conditions on data.\n",
    "We pick again our old non-modified dataframe.\n",
    "The 3 fundamental boolean operators for filters are:\n",
    "- & and\n",
    "- | or\n",
    "- ~ not\n",
    "\n",
    "Remember to put brackets for more than one condition inside filter\n",
    "e.g. `.filter((...) & (...) | (...))`"
   ]
  },
  {
   "cell_type": "code",
   "execution_count": 13,
   "id": "20",
   "metadata": {},
   "outputs": [
    {
     "name": "stdout",
     "output_type": "stream",
     "text": [
      "+---+----+---+\n",
      "| id|name|age|\n",
      "+---+----+---+\n",
      "|  2| Bob| 45|\n",
      "+---+----+---+\n",
      "\n"
     ]
    }
   ],
   "source": [
    "df_people_forty = df.filter(condition=(40 <= df.age) & (df.age < 50))\n",
    "df_people_forty.show()"
   ]
  },
  {
   "cell_type": "markdown",
   "id": "21",
   "metadata": {},
   "source": []
  },
  {
   "cell_type": "code",
   "execution_count": 14,
   "id": "22",
   "metadata": {},
   "outputs": [
    {
     "name": "stdout",
     "output_type": "stream",
     "text": [
      "+---+---+\n",
      "| id|age|\n",
      "+---+---+\n",
      "|  2| 45|\n",
      "+---+---+\n",
      "\n"
     ]
    }
   ],
   "source": [
    "# remember the select operation presented at the start to chose only relevant columns\n",
    "df_people_forty_anonymized = df_people_forty.select([\"id\", \"age\"])\n",
    "df_people_forty_anonymized.show()"
   ]
  },
  {
   "cell_type": "markdown",
   "id": "23",
   "metadata": {},
   "source": [
    "## Join\n",
    "\n",
    "Join columns of another Dataframe."
   ]
  },
  {
   "cell_type": "code",
   "execution_count": 15,
   "id": "24",
   "metadata": {},
   "outputs": [
    {
     "name": "stdout",
     "output_type": "stream",
     "text": [
      "+---+-------+\n",
      "| id|faculty|\n",
      "+---+-------+\n",
      "|  1|    INF|\n",
      "|  2|    ECO|\n",
      "+---+-------+\n",
      "\n"
     ]
    }
   ],
   "source": [
    "# new faculties dataframe\n",
    "df_faculties = spark.createDataFrame(\n",
    "    data=[(1, \"INF\"), (2, \"ECO\")],\n",
    "    schema=[\"id\", \"faculty\"],\n",
    ")\n",
    "\n",
    "df_faculties.show()"
   ]
  },
  {
   "cell_type": "code",
   "execution_count": 16,
   "id": "25",
   "metadata": {},
   "outputs": [
    {
     "name": "stdout",
     "output_type": "stream",
     "text": [
      "+---+-------+---+-------+\n",
      "| id|   name|age|faculty|\n",
      "+---+-------+---+-------+\n",
      "|  1|  Alice| 33|      1|\n",
      "|  1|  Alice| 33|      1|\n",
      "|  2|    Bob| 45|      2|\n",
      "|  3|Charlie| 50|      1|\n",
      "+---+-------+---+-------+\n",
      "\n"
     ]
    }
   ],
   "source": [
    "# add a column to the original df to perform join\n",
    "df_faculty_assigned = df.withColumn(\n",
    "    colName=\"faculty\", col=when(df.name == \"Bob\", 2).otherwise(\"1\")\n",
    ")\n",
    "\n",
    "df_faculty_assigned.show()"
   ]
  },
  {
   "cell_type": "code",
   "execution_count": 17,
   "id": "26",
   "metadata": {},
   "outputs": [
    {
     "name": "stdout",
     "output_type": "stream",
     "text": [
      "+---+-------+---+-------+---+-------+\n",
      "| id|   name|age|faculty| id|faculty|\n",
      "+---+-------+---+-------+---+-------+\n",
      "|  1|  Alice| 33|      1|  1|    INF|\n",
      "|  1|  Alice| 33|      1|  1|    INF|\n",
      "|  3|Charlie| 50|      1|  1|    INF|\n",
      "|  2|    Bob| 45|      2|  2|    ECO|\n",
      "+---+-------+---+-------+---+-------+\n",
      "\n"
     ]
    }
   ],
   "source": [
    "# JOIN operation\n",
    "df_joined = df_faculty_assigned.join(\n",
    "    other=df_faculties, on=df_faculty_assigned.faculty == df_faculties.id\n",
    ")\n",
    "\n",
    "df_joined.show()"
   ]
  },
  {
   "cell_type": "markdown",
   "id": "27",
   "metadata": {},
   "source": [
    "## Aggregates\n",
    "\n",
    "GroupBy functionality is implemented as the method `.groupBy()` in spark dataframe API.\n",
    "It then allows you to use aggregate functionality `.agg()` on the resulting object \n",
    "that can perform any aggregate operation you have already seen in SQL.\n",
    "It involves a combination of splitting the object, applying a function on the data \n",
    "and recombine the result.\n",
    "Example of aggregate operations available: `.count()`, `.sum()`, `.mean()`, `.max()`, `.min()`, ...\n",
    "Do not use the alternative with lowercase letters `.groupby()` as it is for pandas compatibility."
   ]
  },
  {
   "cell_type": "code",
   "execution_count": 18,
   "id": "28",
   "metadata": {},
   "outputs": [
    {
     "name": "stdout",
     "output_type": "stream",
     "text": [
      "+-------+------------------+\n",
      "|faculty|          avg(age)|\n",
      "+-------+------------------+\n",
      "|      1|38.666666666666664|\n",
      "|      2|              45.0|\n",
      "+-------+------------------+\n",
      "\n"
     ]
    }
   ],
   "source": [
    "# get the average age of the faculty\n",
    "df_faculty_avg_age = df_faculty_assigned.groupBy(df_faculty_assigned.faculty).agg(\n",
    "    avg(df_faculty_assigned.age)\n",
    ")\n",
    "\n",
    "df_faculty_avg_age.show()"
   ]
  },
  {
   "cell_type": "markdown",
   "id": "29",
   "metadata": {},
   "source": [
    "### Alias\n",
    "\n",
    "Correspondent of 'AS' sql keyword. \n",
    "Allow data structure to be referenced using an alternative name.\n",
    "Can be applied to dataframes, columns.\n",
    "If in the same expression you are renaming a column \n",
    "and want to use it in another function, \n",
    "reference to such column with `col('aliasedName')`."
   ]
  },
  {
   "cell_type": "code",
   "execution_count": 19,
   "id": "30",
   "metadata": {},
   "outputs": [
    {
     "name": "stdout",
     "output_type": "stream",
     "text": [
      "+---+-------+---+\n",
      "| id|   name|age|\n",
      "+---+-------+---+\n",
      "|  1|  Alice| 33|\n",
      "|  1|  Alice| 33|\n",
      "|  2|    Bob| 45|\n",
      "|  3|Charlie| 50|\n",
      "+---+-------+---+\n",
      "\n"
     ]
    }
   ],
   "source": [
    "df_alias = df.alias(\"df_alias\")\n",
    "df_alias.show()"
   ]
  },
  {
   "cell_type": "code",
   "execution_count": 20,
   "id": "31",
   "metadata": {},
   "outputs": [
    {
     "name": "stdout",
     "output_type": "stream",
     "text": [
      "+-------+------------------+\n",
      "|faculty|       Average Age|\n",
      "+-------+------------------+\n",
      "|      1|38.666666666666664|\n",
      "|      2|              45.0|\n",
      "+-------+------------------+\n",
      "\n"
     ]
    }
   ],
   "source": [
    "# from previous example of aggregates\n",
    "df_faculty_avg_age = df_faculty_assigned.groupBy(df_faculty_assigned.faculty).agg(\n",
    "    avg(df_faculty_assigned.age).alias(\"Average Age\")\n",
    ")\n",
    "\n",
    "df_faculty_avg_age.show()"
   ]
  },
  {
   "cell_type": "markdown",
   "id": "32",
   "metadata": {},
   "source": [
    "## OrderBy\n",
    "\n",
    "Returns a new sorted dataframe by the specified column(s).\n"
   ]
  },
  {
   "cell_type": "code",
   "execution_count": 21,
   "id": "33",
   "metadata": {},
   "outputs": [
    {
     "name": "stdout",
     "output_type": "stream",
     "text": [
      "+-------+------------------+\n",
      "|faculty|       Average Age|\n",
      "+-------+------------------+\n",
      "|      2|              45.0|\n",
      "|      1|38.666666666666664|\n",
      "+-------+------------------+\n",
      "\n"
     ]
    }
   ],
   "source": [
    "df_faculty_avg_age.orderBy(desc(col=\"Average Age\")).show()"
   ]
  },
  {
   "cell_type": "markdown",
   "id": "34",
   "metadata": {},
   "source": [
    "## Others\n",
    "\n",
    "Important functions from SQL have their own correspondent, \n",
    "you should be able to complete the assignment with the ones listed.\n",
    "Since there are many solutions to reach the same goal \n",
    "for the query translation exercise, \n",
    "just check out the documentation for further references:\n",
    "[PySpark Dataframe API](https://spark.apache.org/docs/latest/api/python/reference/index.html) "
   ]
  },
  {
   "cell_type": "markdown",
   "id": "35",
   "metadata": {},
   "source": [
    "## Define Helper Function"
   ]
  },
  {
   "cell_type": "code",
   "execution_count": 22,
   "id": "36",
   "metadata": {},
   "outputs": [],
   "source": [
    "# load table from TPCxx-BB dataset. Returning a dataframe read from parquet format\n",
    "get_table = lambda table: spark.read.option(\"header\", \"true\").parquet(\n",
    "    f\"TPCx-BB-dataset/{table}.ptxt\"\n",
    ")"
   ]
  },
  {
   "cell_type": "markdown",
   "id": "37",
   "metadata": {},
   "source": [
    "## Explore the dataset\n",
    "\n",
    "You can use `get_table` to load current dataset tables. A table in Spark is stored as a *DataFrame* - see reference in the exercise intro."
   ]
  },
  {
   "cell_type": "code",
   "execution_count": 23,
   "id": "38",
   "metadata": {
    "scrolled": true
   },
   "outputs": [
    {
     "name": "stdout",
     "output_type": "stream",
     "text": [
      "+-------------+----------------+------------------+------------------+-----------------+----------------------+---------------------+------------+------------+-----------+---------------------+-----------+-------------+------------+--------------------+-------------+--------------------+------------------+\n",
      "|c_customer_sk|   c_customer_id|c_current_cdemo_sk|c_current_hdemo_sk|c_current_addr_sk|c_first_shipto_date_sk|c_first_sales_date_sk|c_salutation|c_first_name|c_last_name|c_preferred_cust_flag|c_birth_day|c_birth_month|c_birth_year|     c_birth_country|      c_login|     c_email_address|c_last_review_date|\n",
      "+-------------+----------------+------------------+------------------+-----------------+----------------------+---------------------+------------+------------+-----------+---------------------+-----------+-------------+------------+--------------------+-------------+--------------------+------------------+\n",
      "|            0|AAAAAAAAAAAAAAAA|           1824793|              3203|             2555|                 28776|                14690|         Ms.|      Marisa| Harrington|                    N|         17|            4|        1988|UNITED ARAB EMIRATES| RRCyuY3XfE3a|Marisa.Harrington...|          gdMmGdU9|\n",
      "|            1|AAAAAAAAAAAAAAAB|            830976|              2600|             9191|                 94658|                19931|        Miss|      Bessie|   Calderon|                    N|         20|           10|        1945|              MONACO|      aCJb9cc|Bessie.Calderon@s...|         hLQn0LtVa|\n",
      "|            2|AAAAAAAAAAAAAAAC|            335540|              5527|            14091|                 31783|               106195|        Miss|     Barbara|     Hoover|                    Y|          3|            4|        1952|           GREENLAND|   59cfL9Fbpv|Barbara.Hoover@la...|          vDVbSOCI|\n",
      "|            3|AAAAAAAAAAAAAAAD|           1056662|              1978|            19122|                  8741|                87583|         Mr.|       Lanny|       Berg|                    N|          2|            1|        1932|              CANADA|    TvsKkZgPt|   Lanny.Berg@gmx.fr|          ZxCh4LKH|\n",
      "|            4|AAAAAAAAAAAAAAAE|            596707|              3971|            21996|                 14688|                75952|        Mrs.|        Gina|      Felix|                    Y|         18|            4|        1959|               NAURU|     t3r2t4rC|Gina.Felix@amplim...|            WpJjJ1|\n",
      "|            5|AAAAAAAAAAAAAAAF|            363428|              4888|            21272|                 38182|                65826|         Dr.|      Judith|     Mccain|                    N|         11|           10|        1936|             ICELAND|          WfT|Judith.Mccain@pri...|          jXmMzRt8|\n",
      "|            6|AAAAAAAAAAAAAAAG|           1601629|              6779|            18776|                 48020|                75950|         Sir|      Lavern|     Guzman|                    N|          2|            7|        1952|                GUAM|     SD7IbZaQ|Lavern.Guzman@pea...|            xKpEnQ|\n",
      "|            7|AAAAAAAAAAAAAAAH|            260357|              2400|            30589|                 20361|                42197|         Dr.|      Janice|     Murray|                    Y|         23|            8|        1976|           LITHUANIA|   p1FXddH8rW|Janice.Murray@mac...|         xhjGNk98a|\n",
      "|            8|AAAAAAAAAAAAAAAI|           1519111|              1818|            23037|                 39194|                62551|         Mr.|         Lee|    Jenkins|                    N|         15|           12|        1972|             TUNISIA|         s2Ef|Lee.Jenkins@hushm...|                 j|\n",
      "|            9|AAAAAAAAAAAAAAAJ|            555297|              5958|            30815|                 43531|                50147|         Mr.|    Jonathan|     Parker|                    Y|         10|            2|        1976|             GEORGIA|       N2Qq55|Jonathan.Parker@m...|            vgudeV|\n",
      "|           10|AAAAAAAAAAAAAAAK|            890454|              5535|            34947|                 78774|               102861|         Sir|      George|   Anderson|                    N|         14|            3|        1968|             TUNISIA|           Sa|George.Anderson@s...|                46|\n",
      "|           11|AAAAAAAAAAAAAAAL|           1438986|              1495|              761|                 91923|                70592|         Sir|       Jorge|     Taylor|                    N|         22|            2|        1963|               NIGER|zIhZa6uiGHzb6| Jorge.Taylor@ip6.li|        bmZgmTmXHY|\n",
      "|           12|AAAAAAAAAAAAAAAM|           1425262|              1525|            44513|                 10286|               103343|         Dr.|      Cheryl|        Lee|                    Y|         12|           11|        1972|             JAMAICA|     tBf8lG0t|Cheryl.Lee@lavabi...|             h3tgo|\n",
      "|           13|AAAAAAAAAAAAAAAN|           1331330|              2300|            13401|                 51231|               102876|         Mr.|         Don|   Williams|                    Y|         15|            7|        1952|              BRAZIL|     cb00ffNo|Don.Williams@gmx....|        aEV7ed7nMQ|\n",
      "|           14|AAAAAAAAAAAAAAAO|           1633793|              5097|            21014|                 71728|                 1803|         Ms.|      Alicia|     Flores|                    Y|         15|           10|        1983|         AFGHANISTAN|          Y3e|Alicia.Flores@gmx.hk|         rsOpe2e5s|\n",
      "|           15|AAAAAAAAAAAAAAAP|            686483|              2725|            25060|                 44067|                61458|         Sir|        Paul|    Becerra|                    N|         13|            2|        1955|        COOK ISLANDS|  eILOny1Kpzq|Paul.Becerra@gmai...|          EGo3wwNs|\n",
      "|           16|AAAAAAAAAAAAAAAQ|            885432|               808|            42429|                 58839|                53580|         Sir|       Ellis| Cunningham|                    Y|         19|            6|        1981|                CUBA|            L|Ellis.Cunningham@...|                hw|\n",
      "|           17|AAAAAAAAAAAAAAAR|           1536897|              1789|            10433|                 34329|                88531|         Mr.|       Lance|     Hardee|                    Y|          2|            2|        1982|SYRIAN ARAB REPUBLIC|          1iF| Lance.Hardee@ip6.li|            XPcaEU|\n",
      "|           18|AAAAAAAAAAAAAAAS|           1025955|              7158|            47874|                 93009|                88336|        Miss|      Alisha|    Jenkins|                    N|          4|           11|        1927|         ISLE OF MAN|  VTZFhF0rDxe|Alisha.Jenkins@we...|          czjma9gS|\n",
      "|           19|AAAAAAAAAAAAAAAT|           1384075|              3101|            32881|                 15482|                52298|        Mrs.|        Adam|    Quigley|                    N|         14|            7|        1966|               CHINA|  LXkGj0iRk5X|Adam.Quigley@vfem...|         IwvFu8IYR|\n",
      "+-------------+----------------+------------------+------------------+-----------------+----------------------+---------------------+------------+------------+-----------+---------------------+-----------+-------------+------------+--------------------+-------------+--------------------+------------------+\n",
      "only showing top 20 rows\n"
     ]
    }
   ],
   "source": [
    "# load the current table\n",
    "customer = get_table(\"customer\")\n",
    "customer.show()"
   ]
  },
  {
   "cell_type": "code",
   "execution_count": 24,
   "id": "39",
   "metadata": {
    "scrolled": true
   },
   "outputs": [
    {
     "name": "stdout",
     "output_type": "stream",
     "text": [
      "+-------------+----------------+------------------+------------------+-----------------+----------------------+---------------------+------------+------------+-----------+---------------------+-----------+-------------+------------+--------------------+------------+--------------------+------------------+\n",
      "|c_customer_sk|   c_customer_id|c_current_cdemo_sk|c_current_hdemo_sk|c_current_addr_sk|c_first_shipto_date_sk|c_first_sales_date_sk|c_salutation|c_first_name|c_last_name|c_preferred_cust_flag|c_birth_day|c_birth_month|c_birth_year|     c_birth_country|     c_login|     c_email_address|c_last_review_date|\n",
      "+-------------+----------------+------------------+------------------+-----------------+----------------------+---------------------+------------+------------+-----------+---------------------+-----------+-------------+------------+--------------------+------------+--------------------+------------------+\n",
      "|            0|AAAAAAAAAAAAAAAA|           1824793|              3203|             2555|                 28776|                14690|         Ms.|      Marisa| Harrington|                    N|         17|            4|        1988|UNITED ARAB EMIRATES|RRCyuY3XfE3a|Marisa.Harrington...|          gdMmGdU9|\n",
      "+-------------+----------------+------------------+------------------+-----------------+----------------------+---------------------+------------+------------+-----------+---------------------+-----------+-------------+------------+--------------------+------------+--------------------+------------------+\n",
      "only showing top 1 row\n"
     ]
    }
   ],
   "source": [
    "# show the 1st row of the customer table\n",
    "customer.show(n=1)"
   ]
  },
  {
   "cell_type": "code",
   "execution_count": 25,
   "id": "40",
   "metadata": {
    "scrolled": true
   },
   "outputs": [
    {
     "data": {
      "text/plain": [
       "StructType([StructField('c_customer_sk', LongType(), True), StructField('c_customer_id', StringType(), True), StructField('c_current_cdemo_sk', LongType(), True), StructField('c_current_hdemo_sk', LongType(), True), StructField('c_current_addr_sk', LongType(), True), StructField('c_first_shipto_date_sk', LongType(), True), StructField('c_first_sales_date_sk', LongType(), True), StructField('c_salutation', StringType(), True), StructField('c_first_name', StringType(), True), StructField('c_last_name', StringType(), True), StructField('c_preferred_cust_flag', StringType(), True), StructField('c_birth_day', LongType(), True), StructField('c_birth_month', LongType(), True), StructField('c_birth_year', LongType(), True), StructField('c_birth_country', StringType(), True), StructField('c_login', StringType(), True), StructField('c_email_address', StringType(), True), StructField('c_last_review_date', StringType(), True)])"
      ]
     },
     "execution_count": 25,
     "metadata": {},
     "output_type": "execute_result"
    }
   ],
   "source": [
    "# display the table schema, which in Spark is a set of [column, type, nullable]\n",
    "customer.schema"
   ]
  },
  {
   "cell_type": "code",
   "execution_count": 26,
   "id": "41",
   "metadata": {},
   "outputs": [
    {
     "name": "stdout",
     "output_type": "stream",
     "text": [
      "root\n",
      " |-- c_customer_sk: long (nullable = true)\n",
      " |-- c_customer_id: string (nullable = true)\n",
      " |-- c_current_cdemo_sk: long (nullable = true)\n",
      " |-- c_current_hdemo_sk: long (nullable = true)\n",
      " |-- c_current_addr_sk: long (nullable = true)\n",
      " |-- c_first_shipto_date_sk: long (nullable = true)\n",
      " |-- c_first_sales_date_sk: long (nullable = true)\n",
      " |-- c_salutation: string (nullable = true)\n",
      " |-- c_first_name: string (nullable = true)\n",
      " |-- c_last_name: string (nullable = true)\n",
      " |-- c_preferred_cust_flag: string (nullable = true)\n",
      " |-- c_birth_day: long (nullable = true)\n",
      " |-- c_birth_month: long (nullable = true)\n",
      " |-- c_birth_year: long (nullable = true)\n",
      " |-- c_birth_country: string (nullable = true)\n",
      " |-- c_login: string (nullable = true)\n",
      " |-- c_email_address: string (nullable = true)\n",
      " |-- c_last_review_date: string (nullable = true)\n",
      "\n"
     ]
    }
   ],
   "source": [
    "# or for a nice pretty print tree view of it\n",
    "customer.printSchema()"
   ]
  },
  {
   "cell_type": "markdown",
   "id": "42",
   "metadata": {},
   "source": [
    "## Sample query translation\n",
    "Refer to `queries/q00/explain_q00.sql`. The code below is a valid translation of that query using SparkSQL. You can use any methods in the Spark SQL DataFrame class to implement your solution."
   ]
  },
  {
   "cell_type": "markdown",
   "id": "43",
   "metadata": {},
   "source": [
    "### Query 0\n",
    "Find the amount of items sold by their category.  \n",
    "Only in certain categories sold in specific stores are considered,\n"
   ]
  },
  {
   "cell_type": "code",
   "execution_count": 27,
   "id": "44",
   "metadata": {},
   "outputs": [
    {
     "name": "stdout",
     "output_type": "stream",
     "text": [
      "+--------------+-----+\n",
      "|    i_category|count|\n",
      "+--------------+-----+\n",
      "|Home & Kitchen| 1975|\n",
      "|         Books|14455|\n",
      "|         Music|25060|\n",
      "+--------------+-----+\n",
      "\n"
     ]
    }
   ],
   "source": [
    "# look into TCPx-BB-dataset/ directory to check all the available tables.\n",
    "# gather tables needed\n",
    "\n",
    "s = get_table(\"store_sales\")\n",
    "i = get_table(\"item\")\n",
    "\n",
    "q01_i_category_id_IN = [1, 2, 3]\n",
    "q01_ss_store_sk_IN = [10, 20, 33, 40, 50]\n",
    "\n",
    "query0_solution = (\n",
    "    s.join(other=i, on=s.ss_item_sk == i.i_item_sk)\n",
    "    .filter(condition=i.i_category_id.isin(q01_i_category_id_IN))\n",
    "    .filter(condition=s.ss_store_sk.isin(q01_ss_store_sk_IN))\n",
    "    .groupBy(i.i_category)\n",
    "    .count()\n",
    "    .select(\"i_category\", \"count\")\n",
    ")\n",
    "\n",
    "query0_solution.show()"
   ]
  },
  {
   "cell_type": "markdown",
   "id": "45",
   "metadata": {},
   "source": [
    "The cell below is a shortcut to display the results file of q00 without navigating to the file.  \n",
    "The `!` symbol followed by a bash command (`cat` in this case) can be used as in-cell access to the terminal "
   ]
  },
  {
   "cell_type": "code",
   "execution_count": 28,
   "id": "46",
   "metadata": {},
   "outputs": [
    {
     "name": "stdout",
     "output_type": "stream",
     "text": [
      "Home & Kitchen, 1975\n",
      "Books, 14455\n",
      "Music, 25060"
     ]
    }
   ],
   "source": [
    "## check the result\n",
    "!cat queries/q00/results/q00-result"
   ]
  },
  {
   "cell_type": "markdown",
   "id": "47",
   "metadata": {},
   "source": [
    "# [Our SOLUTION BELOW]\n",
    "Write the query description in a Markdown cell, followed by a code cell with the query implementation.  \n",
    "Query descriptions can be found in the TCPx-BB specification, page 93: https://www.tpc.org/tpc_documents_current_versions/current_specifications5.asp\n",
    "and in the _/queries_ folder of this exercise.\n",
    "\n",
    "You should implement all the queries assigned in the homework sheet."
   ]
  },
  {
   "cell_type": "markdown",
   "id": "48",
   "metadata": {},
   "source": [
    "## 1) Query 07\n"
   ]
  },
  {
   "cell_type": "code",
   "execution_count": 29,
   "id": "49",
   "metadata": {},
   "outputs": [
    {
     "name": "stderr",
     "output_type": "stream",
     "text": [
      "                                                                                "
     ]
    },
    {
     "name": "stdout",
     "output_type": "stream",
     "text": [
      "+--------+-----+\n",
      "|ca_state|count|\n",
      "+--------+-----+\n",
      "|      TX|  396|\n",
      "|      GA|  247|\n",
      "|      VA|  233|\n",
      "|      IL|  205|\n",
      "|      KY|  176|\n",
      "|      KS|  170|\n",
      "|      NC|  164|\n",
      "|      IA|  163|\n",
      "|      MO|  156|\n",
      "|      AL|  139|\n",
      "+--------+-----+\n",
      "\n"
     ]
    }
   ],
   "source": [
    "year=2004\n",
    "month=7\n",
    "max=10\n",
    "\n",
    "j=get_table(\"item\").withColumn(colName=\"more\", col=col(\"i_current_price\")*1.2 )\n",
    "\n",
    "avg_Cat_Prices = j.groupBy(j.i_category).agg(avg(j.more).alias(\"Average+20%\"))\n",
    "\n",
    "k=get_table(\"item\")\n",
    "overpriced =k.join(other=avg_Cat_Prices, on=(k[\"i_category\"] == avg_Cat_Prices[\"i_category\"]) &(k[\"i_current_price\"] > avg_Cat_Prices[\"Average+20%\"]))\n",
    "    \n",
    "\n",
    "d=get_table(\"date_dim\").select(\"d_date_sk\", \"d_year\", \"d_moy\")\n",
    "date_range= d.filter(condition = (col(\"d_year\") == year) & (col(\"d_moy\") == month)) .select(\"d_date_sk\")\n",
    "\n",
    "a= get_table(\"customer_address\")\n",
    "c= get_table(\"customer\")\n",
    "c_a = a.join(other = c, on = a.ca_address_sk == c.c_current_addr_sk)#customer +address\n",
    "\n",
    "s= get_table(\"store_sales\")  \n",
    "c_a_s=c_a.join(other = s, on = c.c_customer_sk == s.ss_customer_sk) #c_a+store_sales\n",
    "\n",
    "c_a_s_o=c_a_s.join(other = overpriced, on=s.ss_item_sk==overpriced.i_item_sk)#c_a_s+overpriced\n",
    "casod=c_a_s_o.join(other = date_range, on=s.ss_sold_date_sk==date_range.d_date_sk)\n",
    "\n",
    "query7_solution= casod.groupBy(\"ca_state\").count().alias(\"count\").filter(\n",
    "    condition=col(\"count\") >= max).orderBy(desc(\"count\"), \"ca_state\").limit(max).select(\"ca_state\", \"count\")\n",
    "\n",
    "query7_solution.show()"
   ]
  },
  {
   "cell_type": "code",
   "execution_count": 30,
   "id": "50",
   "metadata": {},
   "outputs": [
    {
     "name": "stdout",
     "output_type": "stream",
     "text": [
      "TX,396\n",
      "GA,247\n",
      "VA,233\n",
      "IL,205\n",
      "KY,176\n",
      "KS,170\n",
      "NC,164\n",
      "IA,163\n",
      "MO,156\n",
      "AL,139\n"
     ]
    }
   ],
   "source": [
    "# check the result\n",
    "!cat queries/q07/results/q07-result"
   ]
  },
  {
   "cell_type": "markdown",
   "id": "52",
   "metadata": {},
   "source": [
    "## 2.a)"
   ]
  },
  {
   "cell_type": "code",
   "execution_count": 31,
   "id": "53",
   "metadata": {},
   "outputs": [],
   "source": [
    "# implementation"
   ]
  },
  {
   "cell_type": "markdown",
   "id": "54",
   "metadata": {},
   "source": [
    "## 2.b)"
   ]
  },
  {
   "cell_type": "code",
   "execution_count": 32,
   "id": "55",
   "metadata": {},
   "outputs": [],
   "source": [
    "# implementation"
   ]
  },
  {
   "cell_type": "markdown",
   "id": "56",
   "metadata": {},
   "source": [
    "## 2.c)"
   ]
  },
  {
   "cell_type": "code",
   "execution_count": 33,
   "id": "57",
   "metadata": {},
   "outputs": [],
   "source": [
    "# implementation"
   ]
  },
  {
   "cell_type": "markdown",
   "id": "58",
   "metadata": {},
   "source": [
    "## 2.d)"
   ]
  },
  {
   "cell_type": "code",
   "execution_count": 34,
   "id": "59",
   "metadata": {},
   "outputs": [],
   "source": [
    "# implementation"
   ]
  },
  {
   "cell_type": "markdown",
   "id": "60",
   "metadata": {},
   "source": [
    "## 3) Query 09\n"
   ]
  },
  {
   "cell_type": "code",
   "execution_count": 35,
   "id": "61",
   "metadata": {},
   "outputs": [
    {
     "name": "stdout",
     "output_type": "stream",
     "text": [
      "+----------------+\n",
      "|sum(ss_quantity)|\n",
      "+----------------+\n",
      "|          5900.0|\n",
      "+----------------+\n",
      "\n"
     ]
    }
   ],
   "source": [
    "# implementation\n",
    "# implementation\n",
    "ss1 = get_table(\"store_sales\")\n",
    "dd = get_table(\"date_dim\")\n",
    "ca1 = get_table(\"customer_address\")\n",
    "s = get_table(\"store\")\n",
    "cd = get_table(\"customer_demographics\")\n",
    "# dd.show(\"d_year\")\n",
    "q09_year=2001 \n",
    "\n",
    "q09_part1_ca_country=\"United States\"\n",
    "q09_part1_ca_state_IN=['KY', 'GA', 'NM']\n",
    "q09_part1_net_profit_min=0\n",
    "q09_part1_net_profit_max=2000\n",
    "q09_part1_education_status=\"4 yr Degree\"\n",
    "q09_part1_marital_status=\"M\"\n",
    "q09_part1_sales_price_min=100\n",
    "q09_part1_sales_price_max=150\n",
    "\n",
    "q09_part2_ca_country=\"United States\"\n",
    "q09_part2_ca_state_IN=['MT', 'OR', 'IN']\n",
    "q09_part2_net_profit_min=150\n",
    "q09_part2_net_profit_max=3000\n",
    "q09_part2_education_status=\"4 yr Degree\"\n",
    "q09_part2_marital_status=\"M\"\n",
    "q09_part2_sales_price_min=50\n",
    "q09_part2_sales_price_max=200\n",
    "\n",
    "q09_part3_ca_country=\"United States\"\n",
    "q09_part3_ca_state_IN=['WI', 'MO', 'WV']\n",
    "q09_part3_net_profit_min=50\n",
    "q09_part3_net_profit_max=25000\n",
    "q09_part3_education_status=\"4 yr Degree\"\n",
    "q09_part3_marital_status=\"M\"\n",
    "q09_part3_sales_price_min=150\n",
    "q09_part3_sales_price_max=200\n",
    "\n",
    "solution = (\n",
    "    ss1.join(other = dd.filter\n",
    "             (condition=(dd.d_year == q09_year)), on = (ss1.ss_sold_date_sk == dd.d_date_sk))).join(\n",
    "            other = ca1, on = (ss1.ss_addr_sk == ca1.ca_address_sk)).join(\n",
    "            other = s, on = (s.s_store_sk == ss1.ss_store_sk)).join(\n",
    "            other = cd, on = (cd.cd_demo_sk == ss1.ss_cdemo_sk)).filter(condition=\n",
    "            (\n",
    "                (\n",
    "                (cd.cd_marital_status == q09_part1_marital_status)\n",
    "                & (cd.cd_education_status == q09_part1_education_status)\n",
    "                & (q09_part1_sales_price_min <= ss1.ss_sales_price)\n",
    "                & (ss1.ss_sales_price <= q09_part1_sales_price_max)\n",
    "                )\n",
    "                |\n",
    "                (\n",
    "                (cd.cd_marital_status == q09_part2_marital_status)\n",
    "                & (cd.cd_education_status == q09_part2_education_status)\n",
    "                & (q09_part2_sales_price_min <= ss1.ss_sales_price)\n",
    "                & (ss1.ss_sales_price <= q09_part2_sales_price_max)\n",
    "                )\n",
    "                |\n",
    "                (\n",
    "                (cd.cd_marital_status == q09_part3_marital_status)\n",
    "                & (cd.cd_education_status == q09_part3_education_status)\n",
    "                & (q09_part3_sales_price_min <= ss1.ss_sales_price)\n",
    "                & (ss1.ss_sales_price <= q09_part3_sales_price_max)\n",
    "                )\n",
    "            )\n",
    "            &\n",
    "            (\n",
    "               (\n",
    "                (ca1.ca_country == q09_part1_ca_country)\n",
    "                & (ca1.ca_state.isin (q09_part1_ca_state_IN))\n",
    "                & (q09_part1_net_profit_min <= ss1.ss_net_profit)\n",
    "                & (ss1.ss_net_profit <= q09_part1_net_profit_max)\n",
    "                )\n",
    "                |\n",
    "                (\n",
    "                (ca1.ca_country == q09_part2_ca_country)\n",
    "                & (ca1.ca_state.isin (q09_part2_ca_state_IN))\n",
    "                & (q09_part2_net_profit_min <= ss1.ss_net_profit)\n",
    "                & (ss1.ss_net_profit <= q09_part2_net_profit_max)\n",
    "                )\n",
    "                |\n",
    "                (\n",
    "                (ca1.ca_country == q09_part3_ca_country)\n",
    "                & (ca1.ca_state.isin (q09_part3_ca_state_IN))\n",
    "                & (q09_part3_net_profit_min <= ss1.ss_net_profit)\n",
    "                & (ss1.ss_net_profit <= q09_part3_net_profit_max)\n",
    "                ) \n",
    "            )\n",
    "            ).select(sum(\"ss_quantity\"))\n",
    "          \n",
    "solution.show()"
   ]
  },
  {
   "cell_type": "code",
   "execution_count": 36,
   "id": "62",
   "metadata": {},
   "outputs": [
    {
     "name": "stdout",
     "output_type": "stream",
     "text": [
      "5900\n"
     ]
    }
   ],
   "source": [
    "# check the result\n",
    "!cat queries/q09/results/q09-result"
   ]
  },
  {
   "cell_type": "markdown",
   "id": "63",
   "metadata": {},
   "source": [
    "## 4) Query 20\n"
   ]
  },
  {
   "cell_type": "code",
   "execution_count": 37,
   "id": "64",
   "metadata": {},
   "outputs": [
    {
     "name": "stderr",
     "output_type": "stream",
     "text": [
      "                                                                                "
     ]
    },
    {
     "name": "stdout",
     "output_type": "stream",
     "text": [
      "+-------+----------+----------+-------------+---------+\n",
      "|user_sk|orderRatio|itemsRatio|monetaryRatio|frequency|\n",
      "+-------+----------+----------+-------------+---------+\n",
      "|      2|       0.1| 0.0595745|     0.051983|        3|\n",
      "|      3|       0.0|       0.0|          0.0|        0|\n",
      "|      4|       0.0|       0.0|          0.0|        0|\n",
      "|      7| 0.3333333|      0.04|    0.0175497|        1|\n",
      "|     12|       0.0|       0.0|          0.0|        0|\n",
      "|     16|       0.0|       0.0|          0.0|        0|\n",
      "|     17|       1.0| 0.5714286|    0.2275411|        1|\n",
      "|     19|       0.0|       0.0|          0.0|        0|\n",
      "|     22|       0.0|       0.0|          0.0|        0|\n",
      "|     23|       0.5| 0.1666667|    0.1366843|        1|\n",
      "|     30|       0.0|       0.0|          0.0|        0|\n",
      "|     31|       1.0|      0.25|    0.4410076|        1|\n",
      "|     32|       0.0|       0.0|          0.0|        0|\n",
      "|     37|       0.0|       0.0|          0.0|        0|\n",
      "|     38|       0.0|       0.0|          0.0|        0|\n",
      "|     39|       0.0|       0.0|          0.0|        0|\n",
      "|     40|       0.0|       0.0|          0.0|        0|\n",
      "|     42|       0.0|       0.0|          0.0|        0|\n",
      "|     49|       0.0|       0.0|          0.0|        0|\n",
      "|     50|       0.0|       0.0|          0.0|        0|\n",
      "+-------+----------+----------+-------------+---------+\n",
      "only showing top 20 rows\n"
     ]
    }
   ],
   "source": [
    "order= get_table(\"store_sales\").groupBy(\"ss_customer_sk\").agg(count_distinct(\"ss_ticket_number\").alias(\"orders_count\"),count(\"ss_item_sk\").alias(\"orders_items\"),sum(\"ss_net_paid\").alias(\"orders_money\"))\n",
    "returned= get_table(\"store_returns\").groupBy(\"sr_customer_sk\").agg(count_distinct(\"sr_ticket_number\").alias(\"returns_count\"),count(\"sr_item_sk\").alias(\"returns_items\"),sum(\"sr_return_amt\").alias(\"returns_money\"))\n",
    "\n",
    "combined= order.join(other=returned, on= (order.ss_customer_sk==returned.sr_customer_sk), how=\"left_outer\")\n",
    "q20_solutions=combined.select(combined.ss_customer_sk.alias(\"user_sk\"), round(\n",
    "    when((combined.returns_count.isNull()) | (combined.orders_count.isNull()) | ((combined.returns_count / combined.orders_count).isNull()), \n",
    "                                0.0).otherwise(combined.returns_count / combined.orders_count), 7).alias(\"orderRatio\"), \n",
    "                round(when(\n",
    "        (combined.returns_items.isNull()) | (combined.orders_items.isNull()) | (combined.returns_items / combined.orders_items).isNull(),\n",
    "        0.0\n",
    "    ).otherwise(combined.returns_items / combined.orders_items), 7).alias(\"itemsRatio\"),\n",
    "    round(when(\n",
    "        (col(\"returns_money\").isNull()) | (col(\"orders_money\").isNull()) | try_divide(combined.returns_money, combined.orders_money).isNull(),\n",
    "        0.0\n",
    "    ).otherwise(col(\"returns_money\") / col(\"orders_money\")), 7).alias(\"monetaryRatio\"),\n",
    "    when(combined.returns_count.isNull(), 0).otherwise(combined.returns_count).alias(\"frequency\")\n",
    "               ).orderBy(\"user_sk\")\n",
    "q20_solutions.show()"
   ]
  },
  {
   "cell_type": "code",
   "execution_count": 38,
   "id": "65",
   "metadata": {},
   "outputs": [
    {
     "name": "stdout",
     "output_type": "stream",
     "text": [
      "+-------+----------+----------+-------------+---------+\n",
      "|user_sk|orderRatio|itemsRatio|monetaryRatio|frequency|\n",
      "+-------+----------+----------+-------------+---------+\n",
      "|      2|       0.1| 0.0595745|     0.051983|        3|\n",
      "|      3|       0.0|       0.0|          0.0|        0|\n",
      "|      4|       0.0|       0.0|          0.0|        0|\n",
      "|      7| 0.3333333|      0.04|    0.0175497|        1|\n",
      "|     12|       0.0|       0.0|          0.0|        0|\n",
      "|     16|       0.0|       0.0|          0.0|        0|\n",
      "|     17|       1.0| 0.5714286|    0.2275411|        1|\n",
      "|     19|       0.0|       0.0|          0.0|        0|\n",
      "|     22|       0.0|       0.0|          0.0|        0|\n",
      "|     23|       0.5| 0.1666667|    0.1366843|        1|\n",
      "|     30|       0.0|       0.0|          0.0|        0|\n",
      "|     31|       1.0|      0.25|    0.4410076|        1|\n",
      "|     32|       0.0|       0.0|          0.0|        0|\n",
      "|     37|       0.0|       0.0|          0.0|        0|\n",
      "|     38|       0.0|       0.0|          0.0|        0|\n",
      "|     39|       0.0|       0.0|          0.0|        0|\n",
      "|     40|       0.0|       0.0|          0.0|        0|\n",
      "|     42|       0.0|       0.0|          0.0|        0|\n",
      "|     49|       0.0|       0.0|          0.0|        0|\n",
      "|     50|       0.0|       0.0|          0.0|        0|\n",
      "+-------+----------+----------+-------------+---------+"
     ]
    }
   ],
   "source": [
    "# check the result\n",
    "!cat queries/q20/results/q20-result-queryonly"
   ]
  },
  {
   "cell_type": "markdown",
   "id": "6e72b3c9-33d1-4172-b3dc-1b1e9f19f17a",
   "metadata": {},
   "source": [
    "## 5) Query 26??\n"
   ]
  },
  {
   "cell_type": "code",
   "execution_count": 39,
   "id": "132f99e1-e6cf-4f97-856d-dad4b5aeec20",
   "metadata": {},
   "outputs": [],
   "source": [
    "#implementation\n",
    "category=\"Books\"\n",
    "count=5\n",
    "ss=get_table(\"store_sales\")\n",
    "i = get_table(\"item\")\n",
    "\n",
    "join1= ss.join(other=i, on= ss.ss_item_sk == i.i_item_sk).filter(condition= i.i_category==category).dropna(subset=[\"ss_customer_sk\"])\n",
    "join2=join1.groupBy(ss.ss_customer_sk).count().alias(\"count\").filter(condition=col(\"count\") >= count)\n",
    "# join2.orderBy(asc(col=\"ss_customer_sk\")).select(\"ss_customer_sk\").show()"
   ]
  },
  {
   "cell_type": "code",
   "execution_count": 40,
   "id": "d5c9ec90-076c-461a-9ab8-3b3f3a3b6f7c",
   "metadata": {},
   "outputs": [],
   "source": [
    "# check the result\n",
    "# !cat queries/q26/results/q26-result"
   ]
  },
  {
   "cell_type": "code",
   "execution_count": null,
   "id": "01a207e8-45b4-48fc-9197-3ad4d86c4545",
   "metadata": {},
   "outputs": [],
   "source": []
  },
  {
   "cell_type": "markdown",
   "id": "0e1bf84d-9c55-4f29-b8cb-e00e4059a1bb",
   "metadata": {},
   "source": [
    "## 6) Query11\n"
   ]
  },
  {
   "cell_type": "code",
   "execution_count": 41,
   "id": "45e4737f-fcb4-4737-8791-0dd3f667741c",
   "metadata": {},
   "outputs": [
    {
     "name": "stdout",
     "output_type": "stream",
     "text": [
      "+----------+------------------+----------+-----+\n",
      "|pr_item_sk|        avg_rating|pr_item_sk|count|\n",
      "+----------+------------------+----------+-----+\n",
      "|     16896|               4.0|     16896|    3|\n",
      "|     15371|               5.0|     15371|    2|\n",
      "|     11945|               5.0|     11945|    2|\n",
      "|     10422|               4.2|     10422|    5|\n",
      "|      1806| 4.333333333333333|      1806|    6|\n",
      "|     14719|               4.5|     14719|    2|\n",
      "|     16597|               5.0|     16597|    1|\n",
      "|      9458|               4.0|      9458|    3|\n",
      "|     17499|               4.6|     17499|    5|\n",
      "|       474|               5.0|       474|    4|\n",
      "|     14846| 4.166666666666667|     14846|    6|\n",
      "|      3506|               4.0|      3506|    3|\n",
      "|     15437|              3.25|     15437|    4|\n",
      "|       964|3.6666666666666665|       964|    3|\n",
      "|     14117|               5.0|     14117|    2|\n",
      "|     13518|               4.5|     13518|    6|\n",
      "|     13098|               4.5|     13098|    2|\n",
      "|      2250|               4.0|      2250|    5|\n",
      "|     11567|               4.6|     11567|    5|\n",
      "|      8075|               4.0|      8075|    2|\n",
      "+----------+------------------+----------+-----+\n",
      "only showing top 20 rows\n",
      "root\n",
      " |-- ws_sk: long (nullable = true)\n",
      "\n"
     ]
    }
   ],
   "source": [
    "pr_item= get_table(\"product_reviews\").dropna(subset=\"pr_item_sk\")\n",
    "# pr_item_sk.show()\n",
    "r_c= pr_item.groupBy(\"pr_item_sk\").count().alias(\"count\").select(\"pr_item_sk\", \"count\")\n",
    "p=pr_item.groupBy(\"pr_item_sk\").agg(avg(pr_item.pr_review_rating).alias(\"avg_rating\")).join(other=r_c, on=pr_item.pr_item_sk==r_c.pr_item_sk) \n",
    "p.show()\n",
    "\n",
    "startDate='2003-01-02'\n",
    "endDate='2003-02-02'\n",
    "\n",
    "ws= get_table(\"web_sales\")\n",
    "\n",
    "# ws_sum= ws.groupBy(\"ws_item_sk\").agg(sum(ws.ws_net_paid))\n",
    "\n",
    "d= get_table(\"date_dim\")\n",
    "get_table(\"web_sales\").printSchema()\n",
    "dd=d.filter(condition= (d.d_date >= startDate)&(d.d_date <= endDate))\n",
    "# sales_in_range=ws.join(other=date, on= ( ws.ws_sold_date_sk == dd.d_date_sk ))\n",
    "\n",
    "# .dropna(subset=\"ws_item_sk\")"
   ]
  },
  {
   "cell_type": "code",
   "execution_count": 42,
   "id": "91cd3578-e464-43ed-bbe8-ce8356c45924",
   "metadata": {},
   "outputs": [],
   "source": [
    "# check the result\n",
    "# !cat queries/q26/results/q26-result"
   ]
  },
  {
   "cell_type": "markdown",
   "id": "3d4f571c-a6fa-420d-8dd9-0f4bf8775a52",
   "metadata": {},
   "source": [
    "## 6) Query 05"
   ]
  },
  {
   "cell_type": "code",
   "execution_count": 43,
   "id": "de469409-7358-484c-b2fb-333a97ca9a1c",
   "metadata": {},
   "outputs": [
    {
     "name": "stderr",
     "output_type": "stream",
     "text": [
      "[Stage 102:>                                                        (0 + 1) / 1]"
     ]
    },
    {
     "name": "stdout",
     "output_type": "stream",
     "text": [
      "+-------------+-----------------+---+-----------+-----------+-----------+-----------+-----------+-----------+-----------+\n",
      "|clicks_in_cat|college_education|men|clicks_in_1|clicks_in_2|clicks_in_3|clicks_in_4|clicks_in_5|clicks_in_6|clicks_in_7|\n",
      "+-------------+-----------------+---+-----------+-----------+-----------+-----------+-----------+-----------+-----------+\n",
      "|            5|                1|  1|          0|         19|         29|          2|          2|          1|          0|\n",
      "|           12|                1|  1|          0|         17|         44|          1|          7|          7|          0|\n",
      "|            5|                0|  1|          0|         18|         19|          0|          3|          1|          0|\n",
      "|           15|                1|  1|          0|         10|         33|          0|          2|          1|          0|\n",
      "|           19|                1|  0|          0|         31|         74|          2|          4|          4|          0|\n",
      "|            5|                1|  0|          0|         10|         15|          1|          2|          0|          0|\n",
      "|           31|                0|  1|          0|         39|        100|          2|         13|          3|          0|\n",
      "|           15|                1|  1|          0|         22|         36|          3|          3|          1|          0|\n",
      "|           16|                1|  0|          0|         17|         39|          0|          1|          2|          0|\n",
      "|           11|                0|  1|          0|         13|         22|          0|          1|          2|          0|\n",
      "|           11|                0|  1|          0|         15|         33|          1|          2|          1|          0|\n",
      "|           10|                1|  1|          0|         20|         25|          1|          4|          2|          0|\n",
      "|            1|                1|  0|          0|          5|          5|          0|          0|          1|          0|\n",
      "|           10|                0|  1|          0|         18|         53|          1|          2|          0|          0|\n",
      "|            4|                1|  1|          0|          5|         18|          2|          2|          1|          0|\n",
      "|            4|                0|  0|          0|          9|         26|          1|          3|          0|          0|\n",
      "|           12|                0|  1|          0|         24|         28|          2|          6|          3|          0|\n",
      "|           12|                1|  1|          0|          9|         16|          1|          2|          0|          0|\n",
      "|            6|                1|  1|          0|          9|         12|          1|          2|          2|          0|\n",
      "|            3|                1|  0|          0|          2|          9|          1|          0|          0|          0|\n",
      "+-------------+-----------------+---+-----------+-----------+-----------+-----------+-----------+-----------+-----------+\n",
      "only showing top 20 rows\n"
     ]
    },
    {
     "name": "stderr",
     "output_type": "stream",
     "text": [
      "                                                                                "
     ]
    }
   ],
   "source": [
    "q05_i_category='Movies & TV'\n",
    "q05_cd_education_status_IN=['Advanced Degree', 'College', '4 yr Degree', '2 yr Degree']\n",
    "q05_cd_gender='M'\n",
    "web= get_table(\"web_clickstreams\")\n",
    "it= get_table(\"item\")\n",
    "joined= web.join(other=it, on=((web.wcs_item_sk == it.i_item_sk)& (web.wcs_user_sk.isNotNull())))\n",
    "categorized= joined.select(\"wcs_user_sk\", \n",
    "                           when(col(\"i_category\") == q05_i_category,1).otherwise(0).alias(\"in_cat\"),\n",
    "                           when(col(\"i_category_id\") == 1,1).otherwise(0).alias(\"in_1\"),\n",
    "                           when(col(\"i_category_id\") == 2,1).otherwise(0).alias(\"in_2\"),\n",
    "                           when(col(\"i_category_id\") == 3,1).otherwise(0).alias(\"in_3\"),\n",
    "                           when(col(\"i_category_id\") == 4,1).otherwise(0).alias(\"in_4\"),\n",
    "                           when(col(\"i_category_id\") == 5,1).otherwise(0).alias(\"in_5\"),\n",
    "                           when(col(\"i_category_id\") == 6,1).otherwise(0).alias(\"in_6\"),\n",
    "                           when(col(\"i_category_id\") == 7,7).otherwise(0).alias(\"in_7\"))\n",
    "\n",
    "user_cat= categorized.groupBy(categorized.wcs_user_sk).agg(\n",
    "    sum(col(\"in_cat\")).alias(\"clicks_in_category\"),\n",
    "    sum(col(\"in_1\")).alias(\"clicks_in_1\"),\n",
    "    sum(col(\"in_2\")).alias(\"clicks_in_2\"),\n",
    "    sum(col(\"in_3\")).alias(\"clicks_in_3\"),\n",
    "    sum(col(\"in_4\")).alias(\"clicks_in_4\"),\n",
    "    sum(col(\"in_5\")).alias(\"clicks_in_5\"),\n",
    "    sum(col(\"in_6\")).alias(\"clicks_in_6\"),\n",
    "    sum(col(\"in_7\")).alias(\"clicks_in_7\"))\n",
    "ct=get_table(\"customer\")\n",
    "cd=get_table(\"customer_demographics\")\n",
    "q05=user_cat.join(other=ct, on=(col(\"wcs_user_sk\") == col(\"c_customer_sk\"))).join(other=cd, on=(col(\"c_current_cdemo_sk\") == col(\"cd_demo_sk\"))).select(\n",
    "    \"clicks_in_cat\", \n",
    "    when(((col(\"cd_education_status\")).isin(q05_cd_education_status_IN)), 1).otherwise(0).alias(\"college_education\"), \n",
    "    when((col(\"cd_gender\") == q05_cd_gender), 1).otherwise(0).alias(\"men\"),\n",
    "    \"clicks_in_1\",\"clicks_in_2\",\"clicks_in_3\",\"clicks_in_4\",\"clicks_in_5\",\"clicks_in_6\",\"clicks_in_7\")\n",
    "q05.show()"
   ]
  },
  {
   "cell_type": "code",
   "execution_count": 44,
   "id": "dd9c1836-30cd-4c7f-9ecb-bf38b5164f85",
   "metadata": {},
   "outputs": [
    {
     "name": "stdout",
     "output_type": "stream",
     "text": [
      "Precision: 0.7755\n",
      "AUC: 0.8364\n",
      "Confusion Matrix:\n",
      "5504.0  569.0   \n",
      "1429.0  1399.0  \n"
     ]
    }
   ],
   "source": [
    "!cat queries/q05/results/q05-result\n",
    "#results have to be put into a model which is not part of this course, but the result here could be used as input."
   ]
  },
  {
   "cell_type": "markdown",
   "id": "4341713e-b28b-42d3-bb58-2fc5221832a5",
   "metadata": {},
   "source": [
    "## Chevney "
   ]
  },
  {
   "cell_type": "markdown",
   "id": "79d68c14-0771-4136-a061-f41a24f2bf24",
   "metadata": {},
   "source": [
    "## 7) Query 06\n"
   ]
  },
  {
   "cell_type": "code",
   "execution_count": null,
   "id": "a1731a6a-6af6-42e5-92ac-969b818f3b5c",
   "metadata": {},
   "outputs": [],
   "source": [
    "\n"
   ]
  },
  {
   "cell_type": "code",
   "execution_count": 45,
   "id": "c9b94bca-0ecd-45e1-9c45-a37d1b9f747c",
   "metadata": {},
   "outputs": [],
   "source": [
    "# q06_LIMIT=100\n",
    "# q06_YEAR=2001\n",
    "\n",
    "\n",
    "# store = get_table('TEMP_TABLE1')\n",
    "# web = get_table('TEMP_TABLE2')\n",
    "# c = get_table('customer')\n",
    "\n",
    "# join = (\n",
    "#     web.join(\n",
    "#     other = store, on = (store.customer_sk == web.customer_sk))\n",
    "#     .join(other = c, on = (web.customer_sk == c.customer_sk))\n",
    "# )\n",
    "\n",
    "# filter = (\n",
    "#     join.filter(\n",
    "#         (col(\"web.second_year_total\") / col(\"web.first_year_total\")) > \n",
    "#         (col(\"store.second_year_total\") / col(\"store.first_year_total\"))\n",
    "#     )\n",
    "# )\n",
    "\n",
    "# quary06_solution = filter.select(\n",
    "#     (col(\"web.second_year_total\") / col(\"web.first_year_total\")).alias(\"web_sales_increase_ratio\"),\n",
    "#     col(\"c.c_customer_sk\"),\n",
    "#     col(\"c.c_first_name\"),\n",
    "#     col(\"c.c_last_name\"),\n",
    "#     col(\"c.c_preferred_cust_flag\"),\n",
    "#     col(\"c.c_birth_country\"),\n",
    "#     col(\"c.c_login\"),\n",
    "#     col(\"c.c_email_address\")).orderBy(\n",
    "#         desc(\"web_sales_increase_ratio\"),\n",
    "#         \"c_customer_sk\",\n",
    "#         \"c_first_name\",\n",
    "#         \"c_last_name\",\n",
    "#         \"c_preferred_cust_flag\",\n",
    "#         \"c_birth_country\",\n",
    "#         \"c_login\"\n",
    "#     ).limit(q06_LIMIT)"
   ]
  },
  {
   "cell_type": "code",
   "execution_count": null,
   "id": "07df31ed-5a21-453a-9e1d-ac11a6c453a4",
   "metadata": {},
   "outputs": [],
   "source": []
  },
  {
   "cell_type": "code",
   "execution_count": 46,
   "id": "c9a65fa2-5175-445a-bd63-bd321ed611d0",
   "metadata": {},
   "outputs": [
    {
     "name": "stdout",
     "output_type": "stream",
     "text": [
      "900.8,87450,Jennifer,Adams,N,ROMANIA,QqVlass8Uet,Jennifer.Adams@4uchat.de\n",
      "285.2,89238,Robert,Sawyer,Y,SENEGAL,5Qkk,Robert.Sawyer@mail2world.com\n",
      "148.6,18716,Mildred,Patterson,N,ARMENIA,DDTV,Mildred.Patterson@yahoo.com\n",
      "99.7,41008,Felix,Church,Y,MOROCCO,TApz8jkBC,Felix.Church@snail-mail.net\n",
      "88.9,65798,John,Kitchens,N,WALLIS AND FUTUNA,Oh,John.Kitchens@gmx.com\n",
      "88.7,68944,Troy,Turner,Y,BURKINA FASO,KlSxfWwaD99,Troy.Turner@enveloped.org\n",
      "76.5,79685,Rita,Pittman,Y,BOTSWANA,9abKCn,Rita.Pittman@yahoo.com\n",
      "59.7,76431,Angela,Newsom,Y,MYANMAR,kk,Angela.Newsom@safe-mail.net\n",
      "50.9,58264,Darlene,Martin,Y,VIRGIN ISLANDS, U.S.,MS6Zeb,Darlene.Martin@kify.net\n",
      "43,22348,Marc,Hewitt,Y,FRANCE,JH7mZHk,Marc.Hewitt@letterbox.org\n",
      "37.7,53322,Michael,Kinsey,N,CAYMAN ISLANDS,dpxCMeTIGM5,Michael.Kinsey@snail-mail.net\n",
      "28.5,52188,Catherine,Burnette,N,BOLIVIA,Kc5Pcl7FW52,Catherine.Burnette@fastmail.fm\n",
      "27,66031,Pamela,Smith,Y,UGANDA,J5XiJ,Pamela.Smith@ProtectAnimals.com\n",
      "25.6,47523,Deborah,Martin,Y,BELARUS,5k,Deborah.Martin@snail-mail.net\n",
      "22.4,41062,Sang,Main,Y,PITCAIRN,o5m,Sang.Main@gmx.pt\n",
      "20.5,11607,Lonnie,Reid,Y,GERMANY,rrn5di5,Lonnie.Reid@mailmaniacs.com\n",
      "20.1,55003,David,Hernandez,N,PORTUGAL,bz,David.Hernandez@gmx.co.uk\n",
      "17.8,2608,Mark,Pittman,Y,URUGUAY,r6,Mark.Pittman@mac.hush.com\n",
      "17.5,12910,Ann,Martin,N,MARSHALL ISLANDS,VenRIDwF,Ann.Martin@gmx.pt\n",
      "15.6,22895,Lionel,Magana,Y,PITCAIRN,3I,Lionel.Magana@vegemail.com\n",
      "12.8,11699,Cynthia,Douglas,N,BELIZE,LNMqgyrEk,Cynthia.Douglas@gmx.pt\n",
      "12.8,5099,Karl,Sullivan,Y,TOGO,X0zC1ddkc,Karl.Sullivan@shtrudel.tv\n",
      "12.2,89940,Judith,Taylor,N,NETHERLANDS,emha,Judith.Taylor@taunusstein.net\n",
      "12,5207,Randy,Caballero,N,BOTSWANA,d4,Randy.Caballero@usa.com\n",
      "11.1,68782,Christopher,Lewis,Y,EQUATORIAL GUINEA,1Qv,Christopher.Lewis@hushmail.com\n",
      "10.8,36451,Richard,Atkinson,Y,NETHERLANDS ANTILLES,ol1aa5qiI,Richard.Atkinson@macgui.com\n",
      "10.4,81481,Barbara,Kemp,N,NORFOLK ISLAND,KE7etofWDMI,Barbara.Kemp@gmx.co.uk\n",
      "10.3,32225,John,Chapman,Y,BELIZE,aTQq6g,John.Chapman@webmail.co.za\n",
      "10.2,10797,Michael,Rivera,N,CAMEROON,DM5o,Michael.Rivera@mailmetrash.com\n",
      "10,83000,Joe,Mclain,N,TUNISIA,uJFxFgv3YifJm,Joe.Mclain@consultant.com\n",
      "9.5,50885,Gala,Knight,N,SLOVAKIA,Mj5uwJqM4CMEJ,Gala.Knight@myfastmail.com\n",
      "9,75621,Jenna,Powell,N,MONGOLIA,iaW,Jenna.Powell@myfastmail.com\n",
      "9,74696,Donald,Young,N,CAMEROON,jr21,Donald.Young@spamavert.com\n",
      "8.9,45457,Kevin,Hunter,Y,BURKINA FASO,Tbd,Kevin.Hunter@mac.hush.com\n",
      "8.8,56630,Amy,Hoskins,Y,SWEDEN,fXtJQSOpfZ,Amy.Hoskins@vegemail.com\n",
      "8.7,14483,Allan,Taylor,Y,LIECHTENSTEIN,EQjv6akP71,Allan.Taylor@macgui.com\n",
      "8.7,81096,Charles,Smith,Y,BELGIUM,5wZtzU6ixfA,Charles.Smith@4uchat.de\n",
      "8.6,84519,Walter,Bailey,N,GERMANY,ZsfibJiEeZ,Walter.Bailey@safe-mail.net\n",
      "8.5,37808,Renee,Allen,Y,CHINA,g3I2hoQnwGdJW,Renee.Allen@doctor.com\n",
      "8.3,47685,Sarah,Smith,Y,BELIZE,M,Sarah.Smith@europe.com\n",
      "8.1,55118,Dudley,Walsh,Y,GREECE,aCaQelEv5,Dudley.Walsh@SaveWildlife.com\n",
      "8,27452,Donna,Cleveland,N,GAMBIA,YvddvWQyVH,Donna.Cleveland@gmx.es\n",
      "7.9,21538,Kassandra,Pierce,Y,ESTONIA,7M70zkQ9vE5N,Kassandra.Pierce@hushmail.me\n",
      "7.8,50669,Portia,Rubio,Y,MYANMAR,uiKz,Portia.Rubio@consultant.com\n",
      "7.6,73832,Jonathan,Scott,Y,VENEZUELA,T,Jonathan.Scott@myway.com\n",
      "7.3,69815,Ronald,Mcmanus,N,LIECHTENSTEIN,geU6FNTcS6Olj,Ronald.Mcmanus@hush.com\n",
      "7.3,38024,Anthony,Patterson,N,LITHUANIA,GrXxyMOYGk2,Anthony.Patterson@gmx.hk\n",
      "7.1,3742,Richard,Webster,Y,FINLAND,xl,Richard.Webster@aussiemail.com.au\n",
      "7.1,51857,Lonnie,Moore,N,BAHAMAS,y,Lonnie.Moore@macgui.com\n",
      "6.9,43884,Sheryl,Thomas,N,MARSHALL ISLANDS,d2eYBbhfjIr,Sheryl.Thomas@hushmail.com\n",
      "6.8,12262,Helen,Flores,Y,JAMAICA,Z5HzS,Helen.Flores@box.az\n",
      "6.7,8846,Jose,Sinclair,Y,SINGAPORE,qDCjiM0cv25y,Jose.Sinclair@shtrudel.tv\n",
      "6.6,81550,John,Thayer,Y,MALAYSIA,vn2,John.Thayer@mailvault.com\n",
      "6.5,64718,James,Watson,Y,BHUTAN,pFl3Up64cI0F,James.Watson@teancum.net\n",
      "6.5,31516,Roy,Arthur,N,COMOROS,or1TIvoqj9PYI,Roy.Arthur@gmx.es\n",
      "6.4,56907,Milissa,Boyer,N,SOMALIA,z,Milissa.Boyer@dcemail.com\n",
      "6.4,24468,Francisco,Kurtz,N,MONACO,1XbIb,Francisco.Kurtz@letterbox.org\n",
      "6.1,17953,John,Cohen,Y,HONDURAS,pRI,John.Cohen@kify.net\n",
      "6,59614,Maira,Jackson,Y,VENEZUELA,UPPNP56c9,Maira.Jackson@care2.com\n",
      "5.8,4181,Melissa,Graves,N,THAILAND,uxm,Melissa.Graves@devils.com\n",
      "5.8,61680,Helen,Mcginnis,Y,PORTUGAL,PkXPgW7YgGU0,Helen.Mcginnis@gmx.co.uk\n",
      "5.6,15300,Karen,Adams,Y,JAMAICA,wiFUtMDNa,Karen.Adams@gmx.us\n",
      "5.6,98399,Willie,Compton,Y,MALDIVES,,Willie.Compton@aol.com\n",
      "5.5,12208,Michael,Campbell,N,KENYA,w09cbGJj2,Michael.Campbell@born2frag.de\n",
      "5.5,63199,Larry,Guevara,N,GAMBIA,7,Larry.Guevara@fastemailer.com\n",
      "5.3,68836,Sarah,Nunley,Y,GUAM,I8HyfT7,Sarah.Nunley@moose-mail.com\n",
      "5.3,77194,Jenifer,Jones,Y,MALI,FSMLA,Jenifer.Jones@lpemail.com\n",
      "5.3,94281,Hope,Paine,N,PANAMA,gB1Vrg3a,Hope.Paine@eml.cc\n",
      "5.1,83594,Dale,Green,Y,INDIA,76,Dale.Green@dcemail.com\n",
      "5.1,46220,Kathleen,Burns,Y,NETHERLANDS,VOXb,Kathleen.Burns@4uchat.de\n",
      "5.1,94929,Donald,Cook,Y,HAITI,LWWV,Donald.Cook@RespectAnimals.com\n",
      "4.9,2277,Sara,Spencer,Y,MAURITIUS,M,Sara.Spencer@deadaddress.com\n",
      "4.9,68404,Gus,Esparza,Y,UZBEKISTAN,vtZVqh4,Gus.Esparza@deadaddress.com\n",
      "4.8,45511,Douglas,Jensen,Y,KAZAKHSTAN,KgbZEgkTc,Douglas.Jensen@mailmetrash.com\n",
      "4.8,2493,Melissa,Caban,N,COSTA RICA,6bdq,Melissa.Caban@moose-mail.com\n",
      "4.7,7381,Branden,Pope,Y,SWITZERLAND,gmpRr3k,Branden.Pope@lawyer.com\n",
      "4.7,78443,Tyler,Washington,N,THAILAND,b92,Tyler.Washington@RespectAnimals.com\n",
      "4.7,7759,Kenneth,Fletcher,N,NICARAGUA,cY4H7,Kenneth.Fletcher@letterbox.org\n",
      "4.6,47084,Robert,Zaragoza,N,MARTINIQUE,pGmM,Robert.Zaragoza@snail-mail.net\n",
      "4.5,2986,Latasha,Raymond,N,CHINA,gQeL4,Latasha.Raymond@RespectAnimals.com\n",
      "4.5,37916,Guy,Tyler,N,PORTUGAL,Ez,Guy.Tyler@12Freeukisp.co.uk\n",
      "4.4,13781,James,Contreras,Y,CHRISTMAS ISLAND,0RxzVR,James.Contreras@devils.com\n",
      "4.4,91891,Kathleen,Redman,N,IRAQ,M,Kathleen.Redman@army.com\n",
      "4.3,91783,Christopher,Crews,Y,URUGUAY,tKviO8UVD8A,Christopher.Crews@wraped.net\n",
      "4.3,27236,Dennis,Burleson,Y,BAHRAIN,bRtgx,Dennis.Burleson@farce.de\n",
      "4.3,5862,Charles,Shultz,N,MALDIVES,h5V48WciYgTTo,Charles.Shultz@vfemail.net\n",
      "4.3,40468,Gregg,Sanders,N,BURKINA FASO,RRL,Gregg.Sanders@yahoo.com\n",
      "4.3,23867,Walter,Parker,N,QATAR,hK,Walter.Parker@gmx.es\n",
      "4.3,46868,Margaret,Sweet,Y,GIBRALTAR,m3AIX2bMU,Margaret.Sweet@ProtectAnimals.com\n",
      "4.3,1413,Velma,Rodriquez,N,ETHIOPIA,DoZHTgADlZuX,Velma.Rodriquez@hush.com\n",
      "4.3,80016,Benjamin,Freitas,Y,NEW ZEALAND,IFPH2dkMf4a,Benjamin.Freitas@shtrudel.net\n",
      "4.3,62490,Tyler,Smith,Y,CUBA,cQb,Tyler.Smith@quake0.de\n",
      "4.2,44647,Sharon,Warren,N,BURUNDI,TNl7P5FYX7,Sharon.Warren@mail2world.com\n",
      "4.2,5970,John,Holland,N,BURUNDI,zzJR88m,John.Holland@hush.com\n",
      "4.2,12316,Donald,Cole,Y,SLOVENIA,5Vzc1LSq6,Donald.Cole@gmx.hk\n",
      "4.1,87298,April,Richards,Y,NICARAGUA,AD8IlB,April.Richards@enveloped.org\n",
      "4.1,9656,Juan,Zamora,Y,LIECHTENSTEIN,akc1Dw,Juan.Zamora@gmx.us\n",
      "4.1,80232,Donna,Ohara,N,SAINT HELENA,Mn,Donna.Ohara@taunusstein.net\n",
      "4.1,41717,Jacqueline,Hylton,N,KOREA, REPUBLIC OF,ikcjaxXLhQg,Jacqueline.Hylton@shtrudel.org\n",
      "4.1,90534,Richard,Thornton,Y,SWAZILAND,x7S511GS8n2KY,Richard.Thornton@devils.com\n"
     ]
    }
   ],
   "source": [
    "# check the result\n",
    "!cat queries/q06/results/q06-result"
   ]
  },
  {
   "cell_type": "markdown",
   "id": "f0c278e0-7f85-425f-a619-49e65227dee7",
   "metadata": {},
   "source": [
    "## Query 13"
   ]
  },
  {
   "cell_type": "code",
   "execution_count": 47,
   "id": "b518c488-f6c0-4556-92ab-72e3eea53fb7",
   "metadata": {},
   "outputs": [],
   "source": [
    "# q13_Year=2001\n",
    "# q13_limit=100\n",
    "\n",
    "\n",
    "# store = get_table('TEMP_TABLE1')\n",
    "# web = get_table('TEMP_TABLE2')\n",
    "# c = get_table('customer')\n",
    "\n",
    "# join = (\n",
    "#     web.join(\n",
    "#     other = store, on = (store.customer_sk == web.customer_sk))\n",
    "#     .join(other = c, on = (web.customer_sk == c.customer_sk))\n",
    "# )\n",
    "\n",
    "# filter = (\n",
    "#     join.filter(\n",
    "#         (col(\"web.second_year_total\") / col(\"web.first_year_total\")) > \n",
    "#         (col(\"store.second_year_total\") / col(\"store.first_year_total\"))\n",
    "#     )\n",
    "# )\n",
    "\n",
    "# quary13_solution = filter.select(\n",
    "#     (col(\"store.second_year_total\") / col(\"store.first_year_total\")).alias(\"storeSalesIncreaseRatio\"),\n",
    "#     (col(\"web.second_year_total\") / col(\"web.first_year_total\")).alias(\"webSalesIncreaseRatio\"),\n",
    "#     col(\"c_customer_sk\"),\n",
    "#     col(\"c_first_name\"),\n",
    "#     col(\"c_last_name\")\n",
    "#     ).orderBy(\n",
    "#         desc(\"webSalesIncreaseRatio\"),\n",
    "#         \"c_customer_sk\",\n",
    "#         \"c_first_name\",\n",
    "#         \"c_last_name\",\n",
    "#     ).limit(q13_limit)"
   ]
  },
  {
   "cell_type": "code",
   "execution_count": null,
   "id": "97250925-99e5-4263-82b1-d287bf7df79b",
   "metadata": {},
   "outputs": [],
   "source": []
  },
  {
   "cell_type": "code",
   "execution_count": 48,
   "id": "66",
   "metadata": {},
   "outputs": [],
   "source": [
    "# Resource saver: gracefully stop the spark session :)\n",
    "# spark.stop()\n",
    "\n",
    "# hope to see you using clusters with Spark in Databricks platform\n",
    "# on the cloud as AWS, Azure, GCP\n",
    "# for your Data Engineering projects :D"
   ]
  }
 ],
 "metadata": {
  "kernelspec": {
   "display_name": "Python 3 (ipykernel)",
   "language": "python",
   "name": "python3"
  },
  "language_info": {
   "codemirror_mode": {
    "name": "ipython",
    "version": 3
   },
   "file_extension": ".py",
   "mimetype": "text/x-python",
   "name": "python",
   "nbconvert_exporter": "python",
   "pygments_lexer": "ipython3",
   "version": "3.13.0"
  }
 },
 "nbformat": 4,
 "nbformat_minor": 5
}
